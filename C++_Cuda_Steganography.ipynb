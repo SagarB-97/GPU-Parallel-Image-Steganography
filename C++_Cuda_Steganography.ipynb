{
  "nbformat": 4,
  "nbformat_minor": 0,
  "metadata": {
    "colab": {
      "name": "C++ Cuda Steganography.ipynb",
      "provenance": [],
      "collapsed_sections": [],
      "authorship_tag": "ABX9TyPimTpGiY6sN6P1soGGbmOt",
      "include_colab_link": true
    },
    "kernelspec": {
      "name": "python3",
      "display_name": "Python 3"
    },
    "language_info": {
      "name": "python"
    },
    "accelerator": "GPU"
  },
  "cells": [
    {
      "cell_type": "markdown",
      "metadata": {
        "id": "view-in-github",
        "colab_type": "text"
      },
      "source": [
        "<a href=\"https://colab.research.google.com/github/SARTHAK4U/GPU-Parallel-Image-Steganography/blob/master/C%2B%2B_Cuda_Steganography.ipynb\" target=\"_parent\"><img src=\"https://colab.research.google.com/assets/colab-badge.svg\" alt=\"Open In Colab\"/></a>"
      ]
    },
    {
      "cell_type": "markdown",
      "metadata": {
        "id": "DevNTqRdSWEB"
      },
      "source": [
        "**Setting Up CUDA**"
      ]
    },
    {
      "cell_type": "code",
      "metadata": {
        "id": "Eo7Kp1UtRq9_"
      },
      "source": [
        "!apt-get --purge remove cuda nvidia* libnvidia-*\n",
        "!dpkg -l | grep cuda- | awk '{print $2}' | xargs -n1 dpkg --purge\n",
        "!apt-get remove cuda-*\n",
        "!apt autoremove\n",
        "!apt-get update"
      ],
      "execution_count": null,
      "outputs": []
    },
    {
      "cell_type": "code",
      "metadata": {
        "id": "3R7ifo6FR9dC"
      },
      "source": [
        "!wget https://developer.nvidia.com/compute/cuda/9.2/Prod/local_installers/cuda-repo-ubuntu1604-9-2-local_9.2.88-1_amd64 -O cuda-repo-ubuntu1604-9-2-local_9.2.88-1_amd64.deb\n",
        "!dpkg -i cuda-repo-ubuntu1604-9-2-local_9.2.88-1_amd64.deb\n",
        "!apt-key add /var/cuda-repo-9-2-local/7fa2af80.pub\n",
        "!apt-get update\n",
        "!apt-get install cuda-9.2"
      ],
      "execution_count": null,
      "outputs": []
    },
    {
      "cell_type": "code",
      "metadata": {
        "colab": {
          "base_uri": "https://localhost:8080/"
        },
        "id": "tx3A-eekR_YZ",
        "outputId": "d4018a87-3104-4a8a-8f82-0b58c0645f26"
      },
      "source": [
        "!nvcc --version"
      ],
      "execution_count": 3,
      "outputs": [
        {
          "output_type": "stream",
          "name": "stdout",
          "text": [
            "nvcc: NVIDIA (R) Cuda compiler driver\n",
            "Copyright (c) 2005-2018 NVIDIA Corporation\n",
            "Built on Wed_Apr_11_23:16:29_CDT_2018\n",
            "Cuda compilation tools, release 9.2, V9.2.88\n"
          ]
        }
      ]
    },
    {
      "cell_type": "code",
      "metadata": {
        "id": "Vlmg66WPTqGF"
      },
      "source": [
        "!pip install git+git://github.com/andreinechaev/nvcc4jupyter.git"
      ],
      "execution_count": null,
      "outputs": []
    },
    {
      "cell_type": "code",
      "metadata": {
        "colab": {
          "base_uri": "https://localhost:8080/"
        },
        "id": "qRPcVBTET1gZ",
        "outputId": "5a26a40f-92a0-46c3-9a66-7f12e2177da5"
      },
      "source": [
        "%load_ext nvcc_plugin"
      ],
      "execution_count": 5,
      "outputs": [
        {
          "output_type": "stream",
          "name": "stdout",
          "text": [
            "created output directory at /content/src\n",
            "Out bin /content/result.out\n"
          ]
        }
      ]
    },
    {
      "cell_type": "markdown",
      "metadata": {
        "id": "blEHm50uT5Kv"
      },
      "source": [
        "**STEGANOGRAPHY**"
      ]
    },
    {
      "cell_type": "markdown",
      "metadata": {
        "id": "LFTXY93PWiMx"
      },
      "source": [
        "**1)Parallel Encryption ->CUDA**"
      ]
    },
    {
      "cell_type": "code",
      "metadata": {
        "colab": {
          "base_uri": "https://localhost:8080/"
        },
        "id": "IHPnlfEOT23p",
        "outputId": "8161810a-dacc-4c9b-f52f-171b774c0d4d"
      },
      "source": [
        "%%cu\n",
        "#include \"/content/ppmHelper.h\"\n",
        "#include \"/content/mp3Helper.h\"\n",
        "\n",
        "#include <bits/stdc++.h>\n",
        "\n",
        "using namespace std;\n",
        "\n",
        "#define THREADS_PER_BLOCK 512\n",
        "\n",
        "__global__\n",
        "void encrypt(unsigned char * inputImageData, unsigned char * outputImageData, int width, int height,\n",
        "        char * audioData, long long audioSize) {\n",
        "    long long index = blockIdx.x * blockDim.x + threadIdx.x;   //blockDim.x->no of thread in the block\n",
        "\n",
        "    if(index < audioSize){\n",
        "        unsigned char audioByte = (unsigned char)audioData[index];\n",
        "\n",
        "        outputImageData[index * 8 + 0] = (inputImageData[index * 8 + 0] | 1) & (254 + ((audioByte>>7) & 1));\n",
        "        outputImageData[index * 8 + 1] = (inputImageData[index * 8 + 1] | 1) & (254 + ((audioByte>>6) & 1));\n",
        "        outputImageData[index * 8 + 2] = (inputImageData[index * 8 + 2] | 1) & (254 + ((audioByte>>5) & 1));\n",
        "        outputImageData[index * 8 + 3] = (inputImageData[index * 8 + 3] | 1) & (254 + ((audioByte>>4) & 1));\n",
        "        outputImageData[index * 8 + 4] = (inputImageData[index * 8 + 4] | 1) & (254 + ((audioByte>>3) & 1));\n",
        "        outputImageData[index * 8 + 5] = (inputImageData[index * 8 + 5] | 1) & (254 + ((audioByte>>2) & 1));\n",
        "        outputImageData[index * 8 + 6] = (inputImageData[index * 8 + 6] | 1) & (254 + ((audioByte>>1) & 1));\n",
        "        outputImageData[index * 8 + 7] = (inputImageData[index * 8 + 7] | 1) & (254 + ((audioByte>>0) & 1));\n",
        "    }\n",
        "}\n",
        "\n",
        "\n",
        "int main(int argc, char *argv[]){\n",
        "\n",
        "    char *inputImageFile = \"/content/msd.ppm\";\n",
        "    char *inputAudioFile = \"/content/a.mp3\";\n",
        "\n",
        "\n",
        "    // Create Cuda Events //\n",
        "    cudaEvent_t start, stop;\n",
        "    cudaEventCreate(&start);\n",
        "    cudaEventCreate(&stop);\n",
        "   \n",
        "\n",
        "    // Read input image\n",
        "    PPMimg *inpImg = readPPM(inputImageFile);\n",
        "    int width = inpImg->width;\n",
        "    int height = inpImg->height;\n",
        "    long long totPixels = (long long)width * height;\n",
        "\n",
        "    PPMpixel *inData = inpImg->data;\n",
        "    PPMpixel *outData = (PPMpixel *)malloc(sizeof(PPMpixel) * totPixels);//size of one pixel * total pixels\n",
        "\n",
        "    unsigned char * inputImageData = ppmTochar(inData, width, height); //converting arrays of pixels to linear array\n",
        "\n",
        "    unsigned char * outputImageData = (unsigned char *)malloc(totPixels * 3ll);\n",
        "\n",
        "    // Copy input image to device memory\n",
        "    unsigned char *d_inputImageData, *d_outputImageData;\n",
        "    cudaMalloc((void**)&d_inputImageData, totPixels * 3ll);\n",
        "    cudaMalloc((void**)&d_outputImageData, totPixels * 3ll);\n",
        "\n",
        "    cudaMemcpy(d_inputImageData,inputImageData,totPixels * 3ll,cudaMemcpyHostToDevice);\n",
        "    cudaMemcpy(d_outputImageData,inputImageData,totPixels * 3ll,cudaMemcpyHostToDevice);    \n",
        "    //--------------------------------------------------------------------------//\n",
        "\n",
        "\n",
        "    // Read input audio file\n",
        "    MP3File *inpAudio = readMP3(inputAudioFile);\n",
        "    char *audioData = inpAudio->data;\n",
        "\n",
        "    // Copy audio file to device memory\n",
        "    char *d_audioData;\n",
        "    cudaMalloc((void**)&d_audioData, inpAudio->size);\n",
        "    cudaMemcpy(d_audioData, audioData, inpAudio->size, cudaMemcpyHostToDevice);\n",
        "    //--------------------------------------------------------------------------//\n",
        "\n",
        "    cout << \"Size of text file = \" << inpAudio->size << \" bytes (\"\n",
        "         << (inpAudio->size * 8) << \" bits)\\n\";\n",
        "    cout << \"Size of image file = \" << totPixels * 3 << \" bytes\\n\";\n",
        "\n",
        "    // preparing invocation\n",
        "    long long audioSize = inpAudio -> size; //total chunks of 1 byte read\n",
        "\n",
        "    dim3 blockDim(THREADS_PER_BLOCK, 1, 1);\n",
        "    //block and grid variables can be 1, 2, or 3 dimensional. Here (1,1) since 1D data after conversion\n",
        "    dim3 gridDim((audioSize-1)/THREADS_PER_BLOCK + 1, 1, 1); //(audioSize-1)/THREADS_PER_BLOCK + 1 ->to handle case when not divisible\n",
        "\n",
        "    cout<<\"Blocks = \"<<(audioSize-1)/THREADS_PER_BLOCK + 1<<\"\\n\";\n",
        "\n",
        "    cudaEventRecord(start);        \n",
        "\n",
        "    //kernel invoked here\n",
        "    encrypt<<<blockDim, gridDim>>>(d_inputImageData, d_outputImageData, width, height, d_audioData, audioSize);\n",
        "\n",
        "    cudaEventRecord(stop);\n",
        "    cudaEventSynchronize(stop);//Wait until the completion of all device work preceding the most recent call to cudaEventRecord()\n",
        "\n",
        "//Since net program works asyncronusly therefore barrier is required\n",
        "\n",
        "    float gpuTime = 0;\n",
        "    cudaEventElapsedTime(&gpuTime, start, stop);\n",
        "    //--------------------------------------------------------------------------//\n",
        "\n",
        "    // Writing result to host\n",
        "    cudaMemcpy(outputImageData, d_outputImageData, totPixels * 3 ,cudaMemcpyDeviceToHost);\n",
        "\n",
        "    // Writing back output image\n",
        "    char outputImageFile[] = \"/content/parallel_output.ppm\";\n",
        "    writePPM(outputImageFile, outputImageData, inpImg->width, inpImg->height, 3);\n",
        "    //--------------------------------------------------------------------------//\n",
        "\n",
        "    // Free memory\n",
        "    free(audioData);\n",
        "    cudaFree(d_inputImageData);\n",
        "    cudaFree(d_outputImageData);\n",
        "    cudaFree(d_audioData);\n",
        "\n",
        "    // Time Print\n",
        "    cout<<\"GPU Time taken (encrypt) = \"<<gpuTime<<\" ms\\n\";\n",
        "}"
      ],
      "execution_count": 6,
      "outputs": [
        {
          "output_type": "stream",
          "name": "stdout",
          "text": [
            "Size of text file = 117490 bytes (939920 bits)\n",
            "Size of image file = 2045424 bytes\n",
            "Blocks = 230\n",
            "GPU Time taken (encrypt) = 0.213504 ms\n",
            "\n"
          ]
        }
      ]
    },
    {
      "cell_type": "markdown",
      "metadata": {
        "id": "CmDL6Y1FWqeS"
      },
      "source": [
        "**2) Parallel Decryption ->CUDA**"
      ]
    },
    {
      "cell_type": "code",
      "metadata": {
        "colab": {
          "base_uri": "https://localhost:8080/"
        },
        "id": "AapIA4_XWpYA",
        "outputId": "3ad17ff2-16c8-49cd-991e-500263f34e96"
      },
      "source": [
        "%%writefile parallel_decrypt.cu\n",
        "#include \"/content/ppmHelper.h\"\n",
        "#include \"/content/mp3Helper.h\"\n",
        "#include <bits/stdc++.h>\n",
        "\n",
        "using namespace std;\n",
        "\n",
        "#define THREADS_PER_BLOCK 512\n",
        "\n",
        "__global__\n",
        "void decrypt(unsigned char * inputImageData, int width, int height,\n",
        "        char * Data, long long Size) {\n",
        "    long long index = blockIdx.x * blockDim.x + threadIdx.x;\n",
        "\n",
        "    if(index < Size){\n",
        "        unsigned char Byte = 0;\n",
        "\n",
        "        Byte |= (inputImageData[index * 8 + 0] & 1) << 7;\n",
        "        Byte |= (inputImageData[index * 8 + 1] & 1) << 6;\n",
        "        Byte |= (inputImageData[index * 8 + 2] & 1) << 5;\n",
        "        Byte |= (inputImageData[index * 8 + 3] & 1) << 4;\n",
        "        Byte |= (inputImageData[index * 8 + 4] & 1) << 3;\n",
        "        Byte |= (inputImageData[index * 8 + 5] & 1) << 2;\n",
        "        Byte |= (inputImageData[index * 8 + 6] & 1) << 1;\n",
        "        Byte |= (inputImageData[index * 8 + 7] & 1) << 0;\n",
        "        \n",
        "        Data[index] = Byte;\n",
        "    }\n",
        "}\n",
        "\n",
        "\n",
        "int main(){\n",
        "\n",
        "    char const *inputImageFile = \"/content/parallel_output (3).ppm\";\n",
        "    long long audioSize = 117490;\n",
        "    char *outputFileExtension = \".mp3\";    \n",
        "    \n",
        "    // Create Cuda Events //\n",
        "    cudaEvent_t start, stop;\n",
        "    cudaEventCreate(&start);\n",
        "    cudaEventCreate(&stop);\n",
        "    ////////////////////////////\n",
        "\n",
        "    // Read input image\n",
        "    PPMimg *inpImg = readPPM(inputImageFile);\n",
        "    int width = inpImg->width;\n",
        "    int height = inpImg->height;\n",
        "    long long totPixels = (long long)width * height;\n",
        "\n",
        "    PPMpixel *inData = inpImg->data;\n",
        "    PPMpixel *outData = (PPMpixel *)malloc(sizeof(PPMpixel) * totPixels);\n",
        "    unsigned char *inputImageData = ppmTochar(inData, width, height);\n",
        "\n",
        "    // Copy input image to device memory\n",
        "    unsigned char *d_inputImageData;\n",
        "    cudaMalloc((void**)&d_inputImageData, totPixels * 3ll);\n",
        "\n",
        "    cudaMemcpy(d_inputImageData,inputImageData,totPixels * 3ll,cudaMemcpyHostToDevice);\n",
        "    //--------------------------------------------------------------------------//\n",
        "\n",
        "    // Memory allocation for extracted audio\n",
        "    char *extractedAudioData = (char *)malloc(audioSize);\n",
        "    char *d_extractedAudioData;\n",
        "    cudaMalloc((void**)&d_extractedAudioData, audioSize);\n",
        "    //--------------------------------------------------------------------------//\n",
        "\n",
        "    // Invoke Kernel\n",
        "    dim3 blockDim(THREADS_PER_BLOCK, 1, 1);\n",
        "    dim3 gridDim((audioSize-1)/THREADS_PER_BLOCK + 1, 1, 1);\n",
        "\n",
        "    cudaEventRecord(start);    \n",
        "    decrypt<<<blockDim, gridDim>>>(d_inputImageData, width, height, d_extractedAudioData, audioSize);\n",
        "    cudaEventRecord(stop);\n",
        "    cudaEventSynchronize(stop);\n",
        "    float gpuTime = 0;\n",
        "    cudaEventElapsedTime(&gpuTime, start, stop);\n",
        "    //--------------------------------------------------------------------------//\n",
        "\n",
        "    // Copying result to host\n",
        "    cudaMemcpy(extractedAudioData, d_extractedAudioData, audioSize ,cudaMemcpyDeviceToHost);\n",
        "\n",
        "\n",
        "    // Writing back audio file\n",
        "    char outputAudioFile[] = \"parallel_output\";\n",
        "    strcat(outputAudioFile, outputFileExtension);\n",
        "    writeMP3(outputAudioFile, extractedAudioData, audioSize);\n",
        "    //--------------------------------------------------------------------------//\n",
        "\n",
        "    // Time Print\n",
        "    cout<<\"GPU Time taken (decrypt) = \"<<gpuTime<<\" ms\\n\";\n",
        "}"
      ],
      "execution_count": 16,
      "outputs": [
        {
          "output_type": "stream",
          "name": "stdout",
          "text": [
            "Overwriting parallel_decrypt.cu\n"
          ]
        }
      ]
    },
    {
      "cell_type": "code",
      "metadata": {
        "colab": {
          "base_uri": "https://localhost:8080/"
        },
        "id": "BWMr9jgnfkxi",
        "outputId": "87a89bef-d75d-45d7-e3c3-302369773fde"
      },
      "source": [
        "%%shell\n",
        "nvcc parallel_decrypt.cu"
      ],
      "execution_count": 17,
      "outputs": [
        {
          "output_type": "stream",
          "name": "stdout",
          "text": [
            "parallel_decrypt.cu(35): warning: conversion from a string literal to \"char *\" is deprecated\n",
            "\n",
            "parallel_decrypt.cu(35): warning: conversion from a string literal to \"char *\" is deprecated\n",
            "\n"
          ]
        },
        {
          "output_type": "execute_result",
          "data": {
            "text/plain": [
              ""
            ]
          },
          "metadata": {},
          "execution_count": 17
        }
      ]
    },
    {
      "cell_type": "code",
      "metadata": {
        "colab": {
          "base_uri": "https://localhost:8080/"
        },
        "id": "juJ6k2E3fsdn",
        "outputId": "bf1e8e83-5c39-43d2-a7f9-c1d3e6f81ee5"
      },
      "source": [
        "%%shell\n",
        "./a.out"
      ],
      "execution_count": 18,
      "outputs": [
        {
          "output_type": "stream",
          "name": "stdout",
          "text": [
            "GPU Time taken (decrypt) = 0.212864 ms\n"
          ]
        },
        {
          "output_type": "execute_result",
          "data": {
            "text/plain": [
              ""
            ]
          },
          "metadata": {},
          "execution_count": 18
        }
      ]
    },
    {
      "cell_type": "markdown",
      "metadata": {
        "id": "_JVDjP_KXzQM"
      },
      "source": [
        "**Serial Encryption**"
      ]
    },
    {
      "cell_type": "code",
      "metadata": {
        "colab": {
          "base_uri": "https://localhost:8080/"
        },
        "id": "uweA8a6aXy6s",
        "outputId": "74913d79-fb87-4df4-a4f6-b26474d54746"
      },
      "source": [
        "%%writefile encrypt.cpp\n",
        "#include \"/content/ppmHelper.h\"\n",
        "#include \"/content/mp3Helper.h\"\n",
        "\n",
        "#include <bits/stdc++.h>\n",
        "\n",
        "using namespace std;\n",
        "\n",
        "int main()\n",
        "{\n",
        "\n",
        "    char const *inputImageFile = \"/content/msd.ppm\";\n",
        "    char const *inputAudioFile = \"/content/a.mp3\";\n",
        "\n",
        "    // Read input image\n",
        "    PPMimg *inpImg = readPPM(inputImageFile);\n",
        "    int width = inpImg->width;\n",
        "    int height = inpImg->height;\n",
        "    long long totPixels = (long long)width * height;\n",
        "\n",
        "    PPMpixel *inData = inpImg->data;\n",
        "    PPMpixel *outData = (PPMpixel *)malloc(sizeof(PPMpixel) * totPixels);\n",
        "    unsigned char *inputImageData = ppmTochar(inData, width, height);\n",
        "    unsigned char *outputImageData = (unsigned char *)malloc(totPixels * 3ll);\n",
        "    //--------------------------------------------------------------------------//\n",
        "\n",
        "    // Read input audio file\n",
        "    MP3File *inpAudio = readMP3(inputAudioFile);\n",
        "    char *audioData = inpAudio->data;\n",
        "    //--------------------------------------------------------------------------//\n",
        "\n",
        "    cout << \"Size of  file = \" << inpAudio->size << \" bytes (\"\n",
        "         << (inpAudio->size * 8) << \" bits)\\n\";\n",
        "    cout << \"Size of image file = \" << totPixels * 3 << \" bytes\\n\";\n",
        "\n",
        "    // Check if audio file can be hidden in the given image\n",
        "    if (totPixels * 3 < inpAudio->size * 8)\n",
        "    {\n",
        "        cout << \"The image size is too small to hide the image\";\n",
        "        exit(0);\n",
        "    }\n",
        "\n",
        "    // Steganography\n",
        "    long long imgCurrentPixel = 0;\n",
        "    clock_t startTime = clock();\n",
        "    for (long int i = 0; i < inpAudio->size ; i++)\n",
        "    {\n",
        "        unsigned char x = (unsigned char)audioData[i];\n",
        "        std::bitset<8> audioByte(x);\n",
        "\n",
        "        int bitC = 7;\n",
        "        while (bitC >= 0)\n",
        "        {\n",
        "            outputImageData[imgCurrentPixel] = (inputImageData[imgCurrentPixel] | 1) & (254 + audioByte[bitC]);\n",
        "            bitC -= 1;\n",
        "            imgCurrentPixel += 1;\n",
        "        }\n",
        "    }\n",
        "    while (imgCurrentPixel < totPixels * 3)\n",
        "    {\n",
        "        outputImageData[imgCurrentPixel] = inputImageData[imgCurrentPixel];\n",
        "        imgCurrentPixel++;\n",
        "    }\n",
        "    clock_t endTime = clock();\n",
        "\n",
        "    // Writing back output image\n",
        "    char outputImageFile[] = \"/content/serial_output.ppm\";\n",
        "    writePPM(outputImageFile, outputImageData, inpImg->width, inpImg->height, 3);\n",
        "    //--------------------------------------------------------------------------//\n",
        "\n",
        "    // Time calculation\n",
        "    double cpuTime = (double)(endTime - startTime) / CLOCKS_PER_SEC;\n",
        "    cout << \"CPU Time taken (encrypt) = \" << cpuTime * 1000 << \" ms\\n\";\n",
        "\n",
        "    free(audioData);\n",
        "}"
      ],
      "execution_count": 19,
      "outputs": [
        {
          "output_type": "stream",
          "name": "stdout",
          "text": [
            "Overwriting encrypt.cpp\n"
          ]
        }
      ]
    },
    {
      "cell_type": "code",
      "metadata": {
        "colab": {
          "base_uri": "https://localhost:8080/"
        },
        "id": "kH-6bpHrYhe1",
        "outputId": "6196edc8-f14b-4124-e933-85d6fb12111b"
      },
      "source": [
        "%%shell\n",
        "g++ encrypt.cpp "
      ],
      "execution_count": 20,
      "outputs": [
        {
          "output_type": "execute_result",
          "data": {
            "text/plain": [
              ""
            ]
          },
          "metadata": {},
          "execution_count": 20
        }
      ]
    },
    {
      "cell_type": "code",
      "metadata": {
        "colab": {
          "base_uri": "https://localhost:8080/"
        },
        "id": "VvkagB8ha9C-",
        "outputId": "8e7d7065-62fc-41dd-b40f-62bc60ee59c5"
      },
      "source": [
        "%%shell\n",
        "./a.out"
      ],
      "execution_count": 21,
      "outputs": [
        {
          "output_type": "stream",
          "name": "stdout",
          "text": [
            "Size of  file = 117490 bytes (939920 bits)\n",
            "Size of image file = 2045424 bytes\n",
            "CPU Time taken (encrypt) = 31.358 ms\n"
          ]
        },
        {
          "output_type": "execute_result",
          "data": {
            "text/plain": [
              ""
            ]
          },
          "metadata": {},
          "execution_count": 21
        }
      ]
    },
    {
      "cell_type": "markdown",
      "metadata": {
        "id": "ZQ_13wM7bOKm"
      },
      "source": [
        "**Serial Decryption** "
      ]
    },
    {
      "cell_type": "code",
      "metadata": {
        "id": "iM_jaC5vbN4t",
        "colab": {
          "base_uri": "https://localhost:8080/"
        },
        "outputId": "6b4dc677-e17b-4187-9521-b7d0788a4c81"
      },
      "source": [
        "%%writefile decrypt.cpp\n",
        "#include \"/content/ppmHelper.h\"\n",
        "#include \"/content/mp3Helper.h\"\n",
        "\n",
        "#include <bits/stdc++.h>\n",
        "\n",
        "using namespace std;\n",
        "\n",
        "int main()\n",
        "{\n",
        "\n",
        "    char const *inputImageFile = \"/content/serial_output.ppm\";\n",
        "    long long audioSize = 3351;\n",
        "    char const *outputFileExtension = \"txt\";    \n",
        "\n",
        "    // Read input image\n",
        "    PPMimg *inpImg = readPPM(inputImageFile);\n",
        "    int width = inpImg->width;\n",
        "    int height = inpImg->height;\n",
        "    long long totPixels = (long long)width * height;\n",
        "\n",
        "    PPMpixel *inData = inpImg->data;\n",
        "    PPMpixel *outData = (PPMpixel *)malloc(sizeof(PPMpixel) * totPixels);\n",
        "    unsigned char *inputImageData = ppmTochar(inData, width, height);\n",
        "    //--------------------------------------------------------------------------//\n",
        "\n",
        "    // Steganography\n",
        "    char *extractedAudioData = (char *)malloc(audioSize);\n",
        "    long long imgCurrentPixel = 0;\n",
        "    long long audioCurrentByte = 0;    \n",
        "    \n",
        "    clock_t startTime = clock();\n",
        "    for (long int i = 0; i < audioSize; i++)\n",
        "    {\n",
        "        std::bitset<8> audioByte(0);\n",
        "\n",
        "        int bitC = 7;\n",
        "        while (bitC >= 0)\n",
        "        {\n",
        "            audioByte[bitC] = inputImageData[imgCurrentPixel] & 1;\n",
        "            bitC -= 1;\n",
        "            imgCurrentPixel += 1;\n",
        "        }\n",
        "        extractedAudioData[audioCurrentByte++] = static_cast<unsigned char>(audioByte.to_ulong());\n",
        "    }\n",
        "    clock_t endTime = clock();\n",
        "\n",
        "\n",
        "    // Writing back audio file\n",
        "    char outputAudioFile[] = \"output.txt\";\n",
        "    // strcat(outputAudioFile, outputFileExtension);\n",
        "    writeMP3(outputAudioFile, extractedAudioData, audioSize);\n",
        "    //--------------------------------------------------------------------------//\n",
        "\n",
        "    // Time calculation\n",
        "    double cpuTime = (double)(endTime - startTime) / CLOCKS_PER_SEC;\n",
        "    cout << \"CPU Time taken (decrypt) = \" << cpuTime * 1000 << \" ms\\n\";\n",
        "}"
      ],
      "execution_count": 22,
      "outputs": [
        {
          "output_type": "stream",
          "name": "stdout",
          "text": [
            "Writing decrypt.cpp\n"
          ]
        }
      ]
    },
    {
      "cell_type": "code",
      "metadata": {
        "id": "s1V2oJaJb1F4",
        "colab": {
          "base_uri": "https://localhost:8080/"
        },
        "outputId": "d94eb475-b657-4a5e-a7e9-ea9b0d5c6e1d"
      },
      "source": [
        "%%shell\n",
        "g++ decrypt.cpp"
      ],
      "execution_count": 23,
      "outputs": [
        {
          "output_type": "execute_result",
          "data": {
            "text/plain": [
              ""
            ]
          },
          "metadata": {},
          "execution_count": 23
        }
      ]
    },
    {
      "cell_type": "code",
      "metadata": {
        "id": "-m3jX30Vb-iq",
        "colab": {
          "base_uri": "https://localhost:8080/"
        },
        "outputId": "3184bb1f-d3eb-4da0-bc71-361dbc35b3b5"
      },
      "source": [
        "%%shell\n",
        "./a.out"
      ],
      "execution_count": 25,
      "outputs": [
        {
          "output_type": "stream",
          "name": "stdout",
          "text": [
            "CPU Time taken (decrypt) = 0.883 ms\n"
          ]
        },
        {
          "output_type": "execute_result",
          "data": {
            "text/plain": [
              ""
            ]
          },
          "metadata": {},
          "execution_count": 25
        }
      ]
    },
    {
      "cell_type": "markdown",
      "metadata": {
        "id": "_jKeieeAYfBn"
      },
      "source": [
        "# **------------------------------------------------------------------------------------------------**"
      ]
    }
  ]
}