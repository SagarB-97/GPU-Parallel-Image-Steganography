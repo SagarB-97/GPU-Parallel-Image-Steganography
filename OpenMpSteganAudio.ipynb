{
  "nbformat": 4,
  "nbformat_minor": 0,
  "metadata": {
    "colab": {
      "name": "OpenMpSteganAudio.ipynb",
      "provenance": [],
      "collapsed_sections": [],
      "include_colab_link": true
    },
    "kernelspec": {
      "name": "python3",
      "display_name": "Python 3"
    },
    "language_info": {
      "name": "python"
    }
  },
  "cells": [
    {
      "cell_type": "markdown",
      "metadata": {
        "id": "view-in-github",
        "colab_type": "text"
      },
      "source": [
        "<a href=\"https://colab.research.google.com/github/SARTHAK4U/GPU-Parallel-Image-Steganography/blob/master/OpenMpSteganAudio.ipynb\" target=\"_parent\"><img src=\"https://colab.research.google.com/assets/colab-badge.svg\" alt=\"Open In Colab\"/></a>"
      ]
    },
    {
      "cell_type": "markdown",
      "metadata": {
        "id": "D3RTTxgBjqJL"
      },
      "source": [
        "# **----------------------------------------------------------------------------------------------------**"
      ]
    },
    {
      "cell_type": "markdown",
      "metadata": {
        "id": "SYcroR1JjuKP"
      },
      "source": [
        "# **OPENMP BASED STEGANOGRAPHY** "
      ]
    },
    {
      "cell_type": "code",
      "metadata": {
        "id": "jr2n3y8X4XRv"
      },
      "source": [
        "\t#Encryption"
      ],
      "execution_count": null,
      "outputs": []
    },
    {
      "cell_type": "code",
      "metadata": {
        "colab": {
          "base_uri": "https://localhost:8080/"
        },
        "id": "h2rldjbZWb0a",
        "outputId": "e59b8de7-47c4-4175-d770-843877f15d73"
      },
      "source": [
        "%%writefile parallel_encrypt.cpp\n",
        "#include \"/content/ppmHelper.h\"\n",
        "#include \"/content/mp3Helper.h\"\n",
        "#include <immintrin.h>\n",
        "#include <iostream>\n",
        "#include <fstream>\n",
        "#include <cmath>\n",
        "#include <functional>\n",
        "#include <chrono>\n",
        "#include <cassert>\n",
        "#include <random>\n",
        "#include <omp.h>\n",
        "const std::string pendl = \".\\n\";\n",
        "#include <bits/stdc++.h>\n",
        "using namespace std;\n",
        "\n",
        "\n",
        "int main(int argc, char *argv[]){\n",
        "\n",
        "    char *inputImageFile = \"/content/msd.ppm\";\n",
        "    char *inputAudioFile = \"/content/a.mp3\";\n",
        "\n",
        "    //dealing with image\n",
        "     PPMimg *inpImg = readPPM(inputImageFile);\n",
        "    int width = inpImg->width;\n",
        "    int height = inpImg->height;\n",
        "    long long totPixels = (long long)width * height;\n",
        "\n",
        "    PPMpixel *inData = inpImg->data;\n",
        "    PPMpixel *outData = (PPMpixel *)malloc(sizeof(PPMpixel) * totPixels);//size of one pixel * total pixels\n",
        "\n",
        "    unsigned char * inputImageData = ppmTochar(inData, width, height); //converting arrays of pixels to linear array\n",
        "\n",
        "    unsigned char * outputImageData = (unsigned char *)malloc(totPixels * 3ll);\n",
        "\n",
        "\n",
        "     // Read input audio file\n",
        "    MP3File *inpAudio = readMP3(inputAudioFile);\n",
        "    char *audioData = inpAudio->data;\n",
        "\n",
        "\n",
        "//------------------------------------------------------------\n",
        "    cout << \"Size of text file = \" << inpAudio->size << \" bytes (\"\n",
        "         << (inpAudio->size * 8) << \" bits)\\n\";\n",
        "    cout << \"Size of image file = \" << totPixels * 3 << \" bytes\\n\";\n",
        "\n",
        "    long long audioSize = inpAudio -> size; //total chunks of 1 byte read\n",
        "\n",
        "  if((inpAudio->size * 8)> totPixels * 3ll) {\n",
        "\t\t\tstd::cout << \"ERROR: message too large to encode in input image.\" << pendl;\n",
        "\t\t\texit(1);\n",
        "\t\t}\n",
        "\n",
        "    int num=1,max=100;\n",
        "\n",
        "    while(num<=max)\n",
        "   {\n",
        "       cout<<\"NO. OF THREADS : \"<<num<<endl;\n",
        "\t\tstd::cout << \"=== Beginning encoding ===\" << std::endl;\n",
        "\tclock_t startTime = clock();\n",
        "\n",
        "    #pragma omp parallel for num_threads(num) shared(inputImageData)\n",
        "\t\tfor(size_t i = 0; i <audioSize; ++i) {\n",
        "\t\t\t//loop through each character in the message string\n",
        "\t\t\tfor(size_t j = 0; j < 8; j++) {\n",
        "\t\t\t\tunsigned int val = audioData[i] >> (7 - j);\n",
        "\t\t\t\tval &= 1;\n",
        "\t\t\t\tsize_t index = (8 * i) + j;\n",
        "\t\t\t\tunsigned int _data = inputImageData[index] & !(1);\n",
        "\t\t\t\tinputImageData[index] = (_data | val);\n",
        "\t\t\t}\n",
        "\t\t}\n",
        "\n",
        "    \tclock_t endTime = clock();\n",
        "\t\n",
        "// Time calculation\n",
        "  double Time = (double)(endTime - startTime) / CLOCKS_PER_SEC;\n",
        "  cout << \"Time taken (encrypt) = \" << Time * 1000 << \" ms\\n\";\n",
        "\n",
        "\n",
        "\t\tstd::cout << \"Message successfully encoded, writing to parallel_output.ppm\"  << pendl;\n",
        "\n",
        "    char outputImageFile[] = \"/content/parallel_output.ppm\";\n",
        "    writePPM(outputImageFile, inputImageData, inpImg->width, inpImg->height, 3);\n",
        "    num++;\n",
        "}\n",
        "}\n",
        "\n",
        "\n"
      ],
      "execution_count": 42,
      "outputs": [
        {
          "output_type": "stream",
          "name": "stdout",
          "text": [
            "Overwriting parallel_encrypt.cpp\n"
          ]
        }
      ]
    },
    {
      "cell_type": "code",
      "metadata": {
        "colab": {
          "base_uri": "https://localhost:8080/"
        },
        "id": "K2hqKLcgbYdd",
        "outputId": "303f8337-fdb6-414e-ebdf-fb9429c67346"
      },
      "source": [
        "%%shell\n",
        "g++ parallel_encrypt.cpp"
      ],
      "execution_count": 43,
      "outputs": [
        {
          "output_type": "stream",
          "name": "stdout",
          "text": [
            "\u001b[01m\u001b[Kparallel_encrypt.cpp:\u001b[m\u001b[K In function ‘\u001b[01m\u001b[Kint main(int, char**)\u001b[m\u001b[K’:\n",
            "\u001b[01m\u001b[Kparallel_encrypt.cpp:19:28:\u001b[m\u001b[K \u001b[01;35m\u001b[Kwarning: \u001b[m\u001b[KISO C++ forbids converting a string constant to ‘\u001b[01m\u001b[Kchar*\u001b[m\u001b[K’ [\u001b[01;35m\u001b[K-Wwrite-strings\u001b[m\u001b[K]\n",
            "     char *inputImageFile = \u001b[01;35m\u001b[K\"/content/msd.ppm\"\u001b[m\u001b[K;\n",
            "                            \u001b[01;35m\u001b[K^~~~~~~~~~~~~~~~~~\u001b[m\u001b[K\n",
            "\u001b[01m\u001b[Kparallel_encrypt.cpp:20:28:\u001b[m\u001b[K \u001b[01;35m\u001b[Kwarning: \u001b[m\u001b[KISO C++ forbids converting a string constant to ‘\u001b[01m\u001b[Kchar*\u001b[m\u001b[K’ [\u001b[01;35m\u001b[K-Wwrite-strings\u001b[m\u001b[K]\n",
            "     char *inputAudioFile = \u001b[01;35m\u001b[K\"/content/a.mp3\"\u001b[m\u001b[K;\n",
            "                            \u001b[01;35m\u001b[K^~~~~~~~~~~~~~~~\u001b[m\u001b[K\n"
          ]
        },
        {
          "output_type": "execute_result",
          "data": {
            "text/plain": [
              ""
            ]
          },
          "metadata": {},
          "execution_count": 43
        }
      ]
    },
    {
      "cell_type": "code",
      "metadata": {
        "id": "FjE1KXDPbn5B"
      },
      "source": [
        "%%shell\n",
        "./a.out"
      ],
      "execution_count": null,
      "outputs": []
    },
    {
      "cell_type": "code",
      "metadata": {
        "id": "0OW65F8oj1BQ"
      },
      "source": [
        "#Decryption"
      ],
      "execution_count": 30,
      "outputs": []
    },
    {
      "cell_type": "code",
      "metadata": {
        "colab": {
          "base_uri": "https://localhost:8080/"
        },
        "id": "zNL1qBOjb0Bl",
        "outputId": "164771c0-e64e-408b-9f4a-f21665ca44fc"
      },
      "source": [
        "%%writefile parallel_decrypt.cpp\n",
        "#include \"/content/ppmHelper.h\"\n",
        "#include \"/content/mp3Helper.h\"\n",
        "#include <immintrin.h>\n",
        "#include <iostream>\n",
        "#include <fstream>\n",
        "#include <cmath>\n",
        "#include <functional>\n",
        "#include <chrono>\n",
        "#include <cassert>\n",
        "#include <random>\n",
        "#include <omp.h>\n",
        "const std::string pendl = \".\\n\";\n",
        "#include <bits/stdc++.h>\n",
        "using namespace std;\n",
        "int main(int argc, char *argv[]){\n",
        "\n",
        "char const *inputImageFile = \"/content/parallel_output.ppm\";\n",
        "    long long audioSize = 117490;\n",
        "    char *outputFileExtension = \".mp3\";    \n",
        "    \n",
        "    \n",
        "    // Read input image\n",
        "    PPMimg *inpImg = readPPM(inputImageFile);\n",
        "    int width = inpImg->width;\n",
        "    int height = inpImg->height;\n",
        "    long long totPixels = (long long)width * height;\n",
        "\n",
        "    PPMpixel *inData = inpImg->data;\n",
        "    PPMpixel *outData = (PPMpixel *)malloc(sizeof(PPMpixel) * totPixels);\n",
        "    unsigned char *inputImageData = ppmTochar(inData, width, height);\n",
        "\n",
        "\n",
        "    char *Data = (char *)malloc(audioSize);\n",
        "\n",
        "\n",
        "    //parallel algorithm\n",
        "\n",
        "clock_t startTime = clock();\n",
        "  #pragma omp parallel for num_threads(omp_get_max_threads()) shared(inputImageData)\n",
        "\t\tfor(size_t i = 0; i <audioSize; ++i) {\n",
        "        size_t index = (8 * i);\n",
        "        unsigned char Byte = 0;\n",
        "        Byte |= (inputImageData[index  + 0] & 1) << 7;\n",
        "        Byte |= (inputImageData[index  + 1] & 1) << 6;\n",
        "        Byte |= (inputImageData[index  + 2] & 1) << 5;\n",
        "        Byte |= (inputImageData[index  + 3] & 1) << 4;\n",
        "        Byte |= (inputImageData[index  + 4] & 1) << 3;\n",
        "        Byte |= (inputImageData[index  + 5] & 1) << 2;\n",
        "        Byte |= (inputImageData[index  + 6] & 1) << 1;\n",
        "        Byte |= (inputImageData[index  + 7] & 1) << 0;\n",
        "        Data[i] = Byte;\n",
        "    }\n",
        "\n",
        "\tclock_t endTime = clock();\n",
        "\t\n",
        "      // Time calculation\n",
        "  double Time = (double)(endTime - startTime) / CLOCKS_PER_SEC;\n",
        "  cout << \"Time taken (decrypt) = \" << Time * 1000 << \" ms\\n\";\n",
        "\n",
        "    // Writing back audio file\n",
        "    char outputAudioFile[] = \"parallel_output\";\n",
        "    strcat(outputAudioFile, outputFileExtension);\n",
        "    writeMP3(outputAudioFile, Data, audioSize);\n",
        "    //--------------------------------------------------------------------------//\n",
        "}"
      ],
      "execution_count": 31,
      "outputs": [
        {
          "output_type": "stream",
          "name": "stdout",
          "text": [
            "Overwriting parallel_decrypt.cpp\n"
          ]
        }
      ]
    },
    {
      "cell_type": "code",
      "metadata": {
        "colab": {
          "base_uri": "https://localhost:8080/"
        },
        "id": "ERx_2eg9fXZk",
        "outputId": "aae334f0-cd76-4309-b734-f5cdcf3a88e5"
      },
      "source": [
        "%%shell\n",
        "g++ parallel_decrypt.cpp"
      ],
      "execution_count": 32,
      "outputs": [
        {
          "output_type": "stream",
          "name": "stdout",
          "text": [
            "\u001b[01m\u001b[Kparallel_decrypt.cpp:\u001b[m\u001b[K In function ‘\u001b[01m\u001b[Kint main(int, char**)\u001b[m\u001b[K’:\n",
            "\u001b[01m\u001b[Kparallel_decrypt.cpp:19:33:\u001b[m\u001b[K \u001b[01;35m\u001b[Kwarning: \u001b[m\u001b[KISO C++ forbids converting a string constant to ‘\u001b[01m\u001b[Kchar*\u001b[m\u001b[K’ [\u001b[01;35m\u001b[K-Wwrite-strings\u001b[m\u001b[K]\n",
            "     char *outputFileExtension = \u001b[01;35m\u001b[K\".mp3\"\u001b[m\u001b[K;\n",
            "                                 \u001b[01;35m\u001b[K^~~~~~\u001b[m\u001b[K\n"
          ]
        },
        {
          "output_type": "execute_result",
          "data": {
            "text/plain": [
              ""
            ]
          },
          "metadata": {},
          "execution_count": 32
        }
      ]
    },
    {
      "cell_type": "code",
      "metadata": {
        "colab": {
          "base_uri": "https://localhost:8080/"
        },
        "id": "j_BzP3AzfbQF",
        "outputId": "68b09951-e4c9-4552-ba65-99068b85a8e4"
      },
      "source": [
        "%%shell\n",
        "./a.out"
      ],
      "execution_count": 33,
      "outputs": [
        {
          "output_type": "stream",
          "name": "stdout",
          "text": [
            "Time taken (decrypt) = 1.551 ms\n"
          ]
        },
        {
          "output_type": "execute_result",
          "data": {
            "text/plain": [
              ""
            ]
          },
          "metadata": {},
          "execution_count": 33
        }
      ]
    }
  ]
}